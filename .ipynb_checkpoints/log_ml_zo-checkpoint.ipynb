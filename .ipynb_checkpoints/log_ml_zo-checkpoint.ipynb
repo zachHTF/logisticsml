{
 "cells": [
  {
   "cell_type": "markdown",
   "metadata": {
    "id": "ogqrXZ-3MUJ9"
   },
   "source": [
    "Problem Statement: This is a Transportation dataset, which has training and testing data. The data contains historical shipment information, and you are expected to build a model that will help predict whether a particular shipment will be on-time or late.\n",
    "1.\tPerform Exploratory Data Analysis using the data. Please come back with top 5 findings.  \n",
    "Explain why these findings are important. \n",
    "\n",
    "2.\tCreate a model using the provided data. The target variable is already defined “Target_numerical”. You are responsible for creating the features for the model.\n"
   ]
  },
  {
   "cell_type": "markdown",
   "metadata": {
    "id": "5w0Rd57eLJKQ"
   },
   "source": [
    "# **0. Data Loading and Preprocessing**"
   ]
  },
  {
   "cell_type": "markdown",
   "metadata": {
    "id": "iG9hrbnZKvgv"
   },
   "source": [
    "## **Setup**\n",
    "Load libraries:"
   ]
  },
  {
   "cell_type": "code",
   "execution_count": 1,
   "metadata": {
    "id": "tVkCowvocNkg"
   },
   "outputs": [],
   "source": [
    "import numpy as np\n",
    "import pandas as pd\n",
    "import matplotlib.pyplot as plt\n",
    "import datetime as dt\n",
    "import random\n",
    "import seaborn as sns\n",
    "from sklearn.impute import KNNImputer\n",
    "import warnings"
   ]
  },
  {
   "cell_type": "markdown",
   "metadata": {
    "id": "RXkgZ6huKzts"
   },
   "source": [
    "Read data:"
   ]
  },
  {
   "cell_type": "code",
   "execution_count": 2,
   "metadata": {
    "id": "WW4Zu49LbuAa",
    "scrolled": true
   },
   "outputs": [],
   "source": [
    "train = pd.read_csv('https://raw.githubusercontent.com/ZachOhl/kenco/main/interview_train_data.csv')\n",
    "#train.head()"
   ]
  },
  {
   "cell_type": "code",
   "execution_count": 323,
   "metadata": {
    "id": "otOeVhnlgutV"
   },
   "outputs": [],
   "source": [
    "test = pd.read_csv('https://raw.githubusercontent.com/ZachOhl/kenco/main/interview_test_data.csv')\n",
    "#test.head()"
   ]
  },
  {
   "cell_type": "markdown",
   "metadata": {
    "id": "IPhVyxVRLBj0"
   },
   "source": [
    "Check that both datasets contain the same variables:"
   ]
  },
  {
   "cell_type": "code",
   "execution_count": 324,
   "metadata": {
    "colab": {
     "base_uri": "https://localhost:8080/"
    },
    "id": "MNjDOeI-guvt",
    "outputId": "2e20b3f2-fff5-4f11-ab64-537896939244"
   },
   "outputs": [
    {
     "data": {
      "text/plain": [
       "True"
      ]
     },
     "execution_count": 324,
     "metadata": {},
     "output_type": "execute_result"
    }
   ],
   "source": [
    "all(train.columns == test.columns)\n",
    "#columns are same in train/test datasets"
   ]
  },
  {
   "cell_type": "code",
   "execution_count": 325,
   "metadata": {
    "colab": {
     "base_uri": "https://localhost:8080/"
    },
    "id": "0_e6L1Hw0VGp",
    "outputId": "e6d25c64-4023-46c1-c905-14127ef4648f"
   },
   "outputs": [
    {
     "data": {
      "text/plain": [
       "((9000, 61), (1478, 61))"
      ]
     },
     "execution_count": 325,
     "metadata": {},
     "output_type": "execute_result"
    }
   ],
   "source": [
    "train.shape, test.shape"
   ]
  },
  {
   "cell_type": "code",
   "execution_count": null,
   "metadata": {},
   "outputs": [],
   "source": [
    "min(train.CreateDate), max(train.CreateDate)"
   ]
  },
  {
   "cell_type": "code",
   "execution_count": null,
   "metadata": {},
   "outputs": [],
   "source": [
    "train.info()"
   ]
  },
  {
   "cell_type": "markdown",
   "metadata": {
    "id": "14BCF4MPImBg"
   },
   "source": [
    "Combine training and test data for data cleaning and (some) feature engineering.    \n",
    "It will be re-split before modeling, so keep track of where to split."
   ]
  },
  {
   "cell_type": "code",
   "execution_count": 326,
   "metadata": {
    "id": "BQa4NXJUMLav"
   },
   "outputs": [],
   "source": [
    "fulldata = pd.concat([train, test], axis=0)  #all feature engineering s.b. done on the \n",
    "    #full dataset. Afterwards, resplit into train/test. \n",
    "    #Last index of train is 8999\n",
    "fulldata = fulldata.reset_index(drop=True) #reset index since test index started over with 0\n",
    "\n",
    "first_test_ind = 9000  #where to re-split data\n",
    "\n",
    "#fulldata.shape"
   ]
  },
  {
   "cell_type": "markdown",
   "metadata": {
    "id": "yrJEF9gunW6R"
   },
   "source": [
    "## **Explore full data set basics:**"
   ]
  },
  {
   "cell_type": "code",
   "execution_count": 327,
   "metadata": {
    "id": "WZUANtuwMLaw"
   },
   "outputs": [],
   "source": [
    "#fulldata.shape"
   ]
  },
  {
   "cell_type": "code",
   "execution_count": 328,
   "metadata": {
    "id": "126Vg1ARJLw5"
   },
   "outputs": [],
   "source": [
    "#fulldata.info()"
   ]
  },
  {
   "cell_type": "code",
   "execution_count": 329,
   "metadata": {
    "id": "mXjGwRevnEbr"
   },
   "outputs": [],
   "source": [
    "#fulldata.nunique()"
   ]
  },
  {
   "cell_type": "code",
   "execution_count": 330,
   "metadata": {
    "id": "O2s-uURN0gkH"
   },
   "outputs": [],
   "source": [
    "#fulldata.target_numerical.value_counts()"
   ]
  },
  {
   "cell_type": "markdown",
   "metadata": {
    "id": "2_GMNCsVI-3D"
   },
   "source": [
    "## **Pre-process basics:**   \n",
    "Convert dates/times to datetime data type:"
   ]
  },
  {
   "cell_type": "code",
   "execution_count": 331,
   "metadata": {
    "id": "Ikhvs6_LMLau"
   },
   "outputs": [],
   "source": [
    "#columns that contain date/time and time-only vars:\n",
    "datetime_cols = ['ActualShip', 'CreateDate', 'ActualDelivery', 'DetailCreateDate', \n",
    "                 'DetailDate', 'AV_CD', 'AV', 'RAD', 'Goal', 'Goal2', 'TargetShip_Early',\n",
    "                'ActualDeliveryTime', 'ActualShipTime', 'AVTime', 'EST_AV', 'new_EST_AV',\n",
    "                'Final_EST_AV']\n",
    "#columns with only times of day or durations:    \n",
    "timeonly_cols = ['ActualDeliveryTime', 'ActualShipTime', 'AVTime']"
   ]
  },
  {
   "cell_type": "code",
   "execution_count": 332,
   "metadata": {
    "id": "10t_vlsjJLum"
   },
   "outputs": [],
   "source": [
    "for col in datetime_cols:\n",
    "    fulldata[col] = pd.to_datetime(fulldata[col], errors='coerce')\n",
    "#Some date entries had two dates listed, which caused errors when parsing to datetime. Since I don't know \n",
    " #which date is correct, I set errors = 'coerce' which just marks those cells as NaT (not a datetime)"
   ]
  },
  {
   "cell_type": "markdown",
   "metadata": {
    "id": "uGzgI4XjTCuh"
   },
   "source": [
    "Convert text data values to uppercase, to prevent upper and lowercase versions of the same cities from being treated differently."
   ]
  },
  {
   "cell_type": "code",
   "execution_count": 333,
   "metadata": {
    "id": "5LaeuWRcyBfE"
   },
   "outputs": [],
   "source": [
    "object_cols = list(fulldata.select_dtypes('object').head().columns)\n",
    "for col in object_cols:\n",
    "    fulldata[col] = fulldata[col].str.upper()"
   ]
  },
  {
   "cell_type": "markdown",
   "metadata": {
    "id": "nhU1YYKLoFMh"
   },
   "source": [
    "## **Delete columns that have redundant or otherwise non-useful looking data:**  \n",
    "\n",
    "*   KEY_LOAD_TRACKING is unique for every observation. \n",
    "*   ConsigneeCity is the same as  Dest(ination) City about 98% of the time. So I'll just keep DestCity to avoid collinear variables.\n",
    "*   ConsigneeCountry is mostly missing, but DestCtry should have nearly the same information anyway, so remove ConsigneeCountry. \n",
    "*   For all location types with both City and Zipcode variables, I'll be keeping just the City and not the Zip. This is an attempt to reduce the number of collinear variables down as well as the amount of categories in categorical variables with hardly any observations. \n",
    "*   DetailCodeDescription is just a longer version of the same information in DetailCode. \n",
    "*   ShipperCity is the same as OriginCity 99% of the time, so I'll keep the Origin location variables and remove the Shipper ones: ShipperCity, ShipperState, ShipperZip, and ShipperCountry.\n",
    "*   PRO is unique for every observation.\n",
    "*   I'm removing DestZip and OriginZip, but keeping DestCity and OriginCity for the reasons mentioned above. Although even the city variables may prove to have too many categories to be useful. \n",
    "*   Lane is just DestCity and OriginCity combined. \n",
    "*   Mileage correlates with CustomerDistance at almost 100%. Mileage has missing values while CustomerDistance does not, so drop Mileage.\n",
    "*   CarrierMode and Status each have the same value for every observation.\n",
    "*   target has the same info as target_numerical, but in string form."
   ]
  },
  {
   "cell_type": "code",
   "execution_count": 334,
   "metadata": {
    "id": "iNNEMilbyBhS"
   },
   "outputs": [],
   "source": [
    "fulldata2 = fulldata.drop(columns=['KEY_LOAD_TRACKING', 'ConsigneeCity', 'ConsigneeCountry','ConsigneeZip' , 'DetailCodeDescription',\n",
    "                                  'ShipperCity', 'ShipperState', 'ShipperZip', 'ShipperCountry', 'PRO', 'DestZip', 'OriginZip',\n",
    "                                   'Lane', 'CarrierMode', 'Mileage', 'Status',  'target'  ]) #"
   ]
  },
  {
   "cell_type": "markdown",
   "metadata": {
    "id": "dhc-Zun49zUk"
   },
   "source": [
    "**Delete columns that have information that won't be available at any useful time**  \n",
    "I am assuming that the variables that start with \"Actual\" such as ActualDelivery can be taken literally and represent information recorded when that action actually happens. I could be wrong but I'll move ahead with this assumption for now and drop  ActualDelivery, ActualTransitTime, and ActualDeliveryTime. ActualShipTime can stay since it happens at the beginning."
   ]
  },
  {
   "cell_type": "code",
   "execution_count": 335,
   "metadata": {
    "id": "HdyvEa9F9znT"
   },
   "outputs": [],
   "source": [
    "fulldata2 = fulldata2.drop(columns=['ActualDelivery', 'ActualTransitTime', 'ActualDeliveryTime' ]) "
   ]
  },
  {
   "cell_type": "markdown",
   "metadata": {
    "id": "pyWWNUkSpUeR"
   },
   "source": [
    "## **Tranform date variables and reduce the number of them:**   \n",
    "There were 17 date and/or time variables in the dataset, many of which seemed to correlate with each other. Also, the meaning of some date variables was unclear. For reasons of reducing collinearity and improving interpretability, I removed some date variables. Based on researching variable meanings, comparing the percentage of time certain dates were equal to other dates, and making a few plots like the one below, I tried to identify date variables that didn't add much information, as well as variables that only seemed interesting when compared to each other.   \n",
    "\n",
    "\n",
    "\n",
    " "
   ]
  },
  {
   "cell_type": "code",
   "execution_count": 373,
   "metadata": {
    "colab": {
     "base_uri": "https://localhost:8080/",
     "height": 523
    },
    "id": "4qf2ybYSyBjT",
    "outputId": "6804f450-05b9-4df9-f974-7f585c90bb92"
   },
   "outputs": [
    {
     "data": {
      "image/png": "[encoded data removed]",
      "text/plain": [
       "<Figure size 720x576 with 1 Axes>"
      ]
     },
     "metadata": {
      "needs_background": "light"
     },
     "output_type": "display_data"
    }
   ],
   "source": [
    "cols2 = [ 'TargetShip_Early', 'ActualShip', 'CreateDate', 'DetailCreateDate', 'DetailDate'] #variables towards beginning of shipping process\n",
    "chosen_ind =  np.random.choice(fulldata.iloc[5000:6000].index, size=10, replace=False) #Choose indices at random but close together to not stretch graph\n",
    "column_list = cols2  \n",
    "\n",
    "plt.figure(figsize = (10, 8))\n",
    "plt.xlabel('Index', fontsize=15) \n",
    "plt.ylabel(\"Date\", fontsize=15)\n",
    "plt.title(\"Dates Early in the Shipping Process\", fontsize=20)\n",
    "\n",
    "no_of_colors=len(column_list)\n",
    "np.random.seed(77)\n",
    "colors=[\"#\"+''.join([random.choice('0123456789ABCDEF') for i in range(6)])\n",
    "       for j in range(no_of_colors)]\n",
    "\n",
    "for col, x in zip(column_list, range(len(column_list))):\n",
    "    plt.scatter(chosen_ind, fulldata[col].iloc[chosen_ind], label = col, color=colors[x])\n",
    "    \n",
    "plt.legend(fontsize=10)\n",
    "plt.show()"
   ]
  },
  {
   "cell_type": "markdown",
   "metadata": {
    "id": "v5eV2rf6Ml1z"
   },
   "source": [
    "Some decisions on date variables:   \n",
    "\n",
    "1.   None of the date variables will be kept in original form since I'm not fitting a time series model. I'll extract categorical variables such as hour of the day, day of the week, week of the year, and month; and create numerical variables that give the numbers of days between some of them.\n",
    "2.   Drop Goal and Goal2. They are almost always the first day of the month 3 months before the CreateDate and last day of the month 1 month before the CreateDate, respectively, so they won't provide any useful information.\n",
    "3.   Add 'days between' variables for: \n",
    "\n",
    "*   TargetShip_Early vs ActualShip \n",
    "*   RAD (Required Availability Date) vs ActualShip\n",
    "*   CreateDate vs DetailDate \n",
    "*   DetailDate vs DetailCreateDate (I'm not entirely sure what Create and Detail mean, but there seems to be some variation in the times between them, so they could be useful.)    \n",
    "   \n",
    "4.   Make categorical variables for hour of the day, day of the week, week, and month for these variables: ActualShip, AV, TargetShip_Early, and ActualShipTime.  \n",
    "\n",
    "  \n",
    "I originally included features like Final_EST_AV vs AV and Final_EST_AV vs EST_AV, thinking that AV (Arrival) was distinct from delivery, so that it and its estimates could be useful for predicting on-time deliveries, but my models were ending up with 100% on test data, meaning I had accidentally included some perfect indicators of lateness. Taking out these variables fixed the issue.  \n",
    "   \n",
    "   "
   ]
  },
  {
   "cell_type": "code",
   "execution_count": 337,
   "metadata": {
    "id": "5EDO-ukaccT9"
   },
   "outputs": [],
   "source": [
    "#Function to make days-between variables given column names:\n",
    "def daysBetween(col1, col2):\n",
    "  return (fulldata2[col1] - fulldata2[col2])/np.timedelta64(1, 'D') "
   ]
  },
  {
   "cell_type": "code",
   "execution_count": 338,
   "metadata": {
    "id": "GraCtFmlyBpt"
   },
   "outputs": [],
   "source": [
    "#Make days-between variables:\n",
    "fulldata2['TargetShip_Early_v_ActualShip'] = daysBetween('TargetShip_Early', 'ActualShip') \n",
    "fulldata2['RAD_v_ActualShip'] = daysBetween('RAD', 'ActualShip').fillna(value = daysBetween('RAD', 'AV').mean()) # fill NAs here with mean (RAD had many NAs)\n",
    "#fulldata2['Final_EST_AV_v_AV'] = daysBetween('Final_EST_AV', 'AV') \n",
    "#fulldata2['Final_EST_AV_v_EST_AV'] = daysBetween('Final_EST_AV', 'EST_AV') \n",
    "fulldata2['CreateDate_v_DetailDate'] = daysBetween('CreateDate', 'DetailDate') \n",
    "fulldata2['DetailDate_v_DetailCreateDate'] = daysBetween('DetailDate', 'DetailCreateDate') \n"
   ]
  },
  {
   "cell_type": "code",
   "execution_count": 339,
   "metadata": {
    "id": "fQ-VJ9gAhKCH"
   },
   "outputs": [],
   "source": [
    "#Function to make categorical date variables given column names:\n",
    "  #Some date variables have hours stored in a different variable so hour is separate\n",
    "def dateCatVarMaker(df, col):\n",
    "  df[col + 'DOW']   = df[col].dt.dayofweek.astype(str)\n",
    "  df[col + 'Week']  = df[col].dt.week.astype(str)\n",
    "  df[col + 'Month'] = df[col].dt.month.astype(str)\n",
    "  return df\n",
    "\n",
    "def dateCatHourMaker(df, col):\n",
    "  df[col + 'Hour']  = df[col].dt.hour.astype(str)\n",
    "  return df\n"
   ]
  },
  {
   "cell_type": "code",
   "execution_count": 340,
   "metadata": {
    "id": "QpqYtM1ed20z"
   },
   "outputs": [],
   "source": [
    "warnings.filterwarnings('ignore')\n",
    "#Make categorical date variables\n",
    "#ActualShip:\n",
    "fulldata2 = dateCatVarMaker(df = fulldata2.copy(), col = 'ActualShip')\n",
    "fulldata2 = dateCatHourMaker(df = fulldata2.copy(), col = 'ActualShipTime')\n",
    "fulldata2 = fulldata2.drop(columns=['AS_dow'], errors='ignore') #there was already an ActualShip DOW column, but I don't want to keep  \n",
    "                                                              #splitting up my functions, so I'll just delete one of the duplicate columns\n",
    "#AV (Arrival):\n",
    "fulldata2 = dateCatVarMaker(df = fulldata2.copy(), col = 'AV')\n",
    "fulldata2 = dateCatHourMaker(df = fulldata2.copy(), col = 'AVTime')\n",
    "fulldata2 = fulldata2.drop(columns=['av_dow'], errors='ignore') #there was already an AV DOW column too\n",
    "fulldata2 = dateCatHourMaker(df = fulldata2.copy(), col = 'AV_CD') #\n",
    "\n",
    "#RAD\n",
    "fulldata2 = dateCatVarMaker(df = fulldata2.copy(), col = 'RAD')  #note: RAD has missing data, but these functions convert the missing\n",
    "fulldata2 = dateCatHourMaker(df = fulldata2.copy(), col = 'RAD')  #cells to 'nan' which is okay-I want to treat missing as a new category here.\n",
    "\n",
    "#TargetShip_Early\n",
    "fulldata2 = dateCatVarMaker(df = fulldata2.copy(), col = 'TargetShip_Early')  \n",
    "fulldata2 = dateCatHourMaker(df = fulldata2.copy(), col = 'TargetShip_Early')\n"
   ]
  },
  {
   "cell_type": "code",
   "execution_count": 341,
   "metadata": {
    "id": "6eFKQLkBvl0f"
   },
   "outputs": [],
   "source": [
    "#Drop date columns now that info has been exracted:\n",
    "fulldata2 = fulldata2.drop(columns=['Goal', 'Goal2', 'new_EST_AV', 'new_EST_AV_dow', 'TargetShip_Early', 'ActualShip',\n",
    "                                    'RAD', 'AV', 'Final_EST_AV', 'EST_AV', 'CreateDate', 'DetailDate', 'DetailCreateDate',\n",
    "                                    'ActualShipTime', 'AVTime', 'AV_CD'  ]) "
   ]
  },
  {
   "cell_type": "markdown",
   "metadata": {
    "id": "809jMLt9w7RA"
   },
   "source": [
    "## **Deal with missing data:**   \n",
    "For certain categorical variables like DetailCity and DetailState, I'll impute new category simply called 'missing' to the missing values. The data could be missing for a reason - for instance, if that info was unknown for a shipment at any point, that could contribute to the likelihood that the shipment is late.   \n",
    "  \n",
    "For the missing values in DestState and OriginState, the cities and zipcodes were not missing, so it's unlikely the info was unknown. Since there were so few missing values, I just looked at them and saw that the missing state was supposed to be Puerto Rico (PR), so I imputed that.   \n",
    "\n",
    "\n"
   ]
  },
  {
   "cell_type": "code",
   "execution_count": 342,
   "metadata": {
    "id": "kWTEYCNgvl2v"
   },
   "outputs": [],
   "source": [
    "#Fill in missing values with new 'Missing' category\n",
    "fulldata2['DetailCity'].fillna(value = 'Missing', inplace=True)\n",
    "fulldata2['DetailState'].fillna(value = 'Missing', inplace=True)\n",
    "\n",
    "#Fill in missing values with 'PR' for Puerto Rico\n",
    "fulldata2['DestState'].fillna(value = 'PR', inplace=True)\n",
    "fulldata2['OriginState'].fillna(value = 'PR', inplace=True)"
   ]
  },
  {
   "cell_type": "markdown",
   "metadata": {
    "id": "edtLaJ7T62YC"
   },
   "source": [
    "## **Dummy variable creation and a few more data type conversions:**  \n",
    "DestName was read in as numerical, but based on what the variable's called, it should be categorical. Carrier should also be categorical.   \n",
    "Also, ServiceDays is numeric is the integer data type. I'll convert it to float just to make sure I don't confuse it with the integer dummy variables.   \n",
    "   \n",
    "Finally, all the categorical variables need to be converted to binary dummy variables-one for each category, so whatever type of model I choose to work with later will be able to fit the data. I might have to redo this if I add/remove variables after EDA.  "
   ]
  },
  {
   "cell_type": "code",
   "execution_count": 343,
   "metadata": {
    "id": "4G2EwB-52-Jm"
   },
   "outputs": [],
   "source": [
    "#Make DestName categorical\n",
    "fulldata2['DestName'] = fulldata2['DestName'] .astype(str)\n",
    "fulldata2['Carrier'] = fulldata2['Carrier'] .astype(str)\n",
    "fulldata2['ServiceDays'] = fulldata2['ServiceDays'].astype(float)\n",
    "\n",
    "fulldata_dum = pd.get_dummies(fulldata2, drop_first = True)\n"
   ]
  },
  {
   "cell_type": "markdown",
   "metadata": {
    "id": "OeCNsspLBWgT"
   },
   "source": [
    "# **1. Exploratory Data Analysis**"
   ]
  },
  {
   "cell_type": "markdown",
   "metadata": {
    "id": "-GkACm37B2y-"
   },
   "source": [
    "For the EDA, I'll use the training data rather than full data observations, since results could influence feature choices and I don't want that selection to be biased. "
   ]
  },
  {
   "cell_type": "code",
   "execution_count": 345,
   "metadata": {
    "colab": {
     "base_uri": "https://localhost:8080/"
    },
    "id": "HAqAK-AXvl5I",
    "outputId": "4cf5fd12-2b6f-456b-aeef-ae7c193b0cf6"
   },
   "outputs": [
    {
     "data": {
      "text/plain": [
       "((9000, 44), (9000, 2752))"
      ]
     },
     "execution_count": 345,
     "metadata": {},
     "output_type": "execute_result"
    }
   ],
   "source": [
    "train2 = fulldata2.iloc[:first_test_ind]\n",
    "train2_dum = fulldata_dum.iloc[:first_test_ind]\n",
    "train2.shape, train2_dum.shape  #9000 observations as expected"
   ]
  },
  {
   "cell_type": "markdown",
   "metadata": {
    "id": "yjJEZH0_P21S"
   },
   "source": [
    "Make function to compare percentage of time shipping target is reached for different categories of variables."
   ]
  },
  {
   "cell_type": "code",
   "execution_count": 346,
   "metadata": {
    "id": "0QAOL6bKd228"
   },
   "outputs": [],
   "source": [
    "#Find percent of time target reached for each category of any categorical variable\n",
    "  #df = dataframe name\n",
    "  #col = column name as string\n",
    "  #min: pass minimum number of observations you want in each category (percentage of on-time\n",
    "   #shipments doesn't mean much if there were only 1 or 2 shipments in that category)\n",
    "def target_percent_agg(df, col_name, min):\n",
    "    sum_of_target = df.groupby([col_name]).agg({'target_numerical' : 'sum'})\n",
    "    count_of_target = df.groupby([col_name]).agg({'target_numerical' : 'count'})   \n",
    "    return (sum_of_target/count_of_target)[count_of_target.target_numerical >= min]"
   ]
  },
  {
   "cell_type": "code",
   "execution_count": 347,
   "metadata": {
    "id": "vVbr9-9gyBsG"
   },
   "outputs": [],
   "source": [
    "#Find percent of time target reached for one category of any categorical variable\n",
    "  #df = dataframe name\n",
    "  #colname = column name as string\n",
    "  #colvalue = value of categorical variable\n",
    "def target_percent_cat(df, colname, colvalue):\n",
    "  return len(df[(df[colname] == colvalue) & (df.target_numerical == 1)]) / len(df[df[colname] == colvalue])"
   ]
  },
  {
   "cell_type": "markdown",
   "metadata": {
    "id": "7oWeSqgg_gIr"
   },
   "source": [
    "**Here are 5 findings from the EDA:**"
   ]
  },
  {
   "cell_type": "markdown",
   "metadata": {
    "id": "neYdmtLQZjvY"
   },
   "source": [
    "## **Finding (i)**\n",
    "**Origin and Destination State**"
   ]
  },
  {
   "cell_type": "code",
   "execution_count": 348,
   "metadata": {
    "colab": {
     "base_uri": "https://localhost:8080/",
     "height": 540
    },
    "id": "Mq24hl32PxuL",
    "outputId": "8532f2d4-9514-4d2a-8cff-c382dd896086"
   },
   "outputs": [
    {
     "data": {
      "image/png": "[encoded data removed]",
      "text/plain": [
       "<Figure size 1440x576 with 2 Axes>"
      ]
     },
     "metadata": {
      "needs_background": "light"
     },
     "output_type": "display_data"
    }
   ],
   "source": [
    "fig, (ax1, ax2) = plt.subplots(2, 1, figsize = (20, 8))\n",
    "fig.suptitle(' ')\n",
    "ax1.set(xlabel='', ylabel='% On-Time')\n",
    "ax2.set(xlabel='', ylabel='% On-Time')\n",
    "ax1.set_title('% of Shipments On-Time by Origin State')\n",
    "ax2.set_title('% of Shipments On-Time by Destination State')\n",
    "\n",
    "plot_data1 = target_percent_agg(train2, 'OriginState', min=15).\\\n",
    "  sort_values(by=['target_numerical'], axis=0, ascending=False)\n",
    "plot_data2 = target_percent_agg(train2, 'DestState', min=15).\\\n",
    "  sort_values(by=['target_numerical'], axis=0, ascending=False)\n",
    "\n",
    "ax1.bar(x = list(plot_data1.index), height = list(plot_data1.target_numerical) , color = \"turquoise\")\n",
    "ax2.bar(x = list(plot_data2.index), height = list(plot_data2.target_numerical) , color = \"turquoise\")\n",
    "\n",
    "plt.subplots_adjust(hspace=0.4)\n",
    "\n",
    "fig.show()"
   ]
  },
  {
   "cell_type": "markdown",
   "metadata": {
    "id": "pUNHb1V8Z-K1"
   },
   "source": [
    "The plots show that state, for both the origin and the destination of the shipment, is an important predictor of whether or not the shipment will arrive on time.   \n",
    "Shipments vary from about 50% on-time when originating in Mississippi to 98% on-time when coming from Minnesota. The destination states show even more extreme results - shipments to Rhode Island only make it on-time about 17% of the time.   \n",
    "This is an important finding because we can flag certain shipments as late risks based only on the states that they originate from or are destined to reach.  "
   ]
  },
  {
   "cell_type": "markdown",
   "metadata": {
    "id": "7YFvlmrzC1r4"
   },
   "source": [
    "## **Finding (ii)**\n",
    "**Origin and Destination City**"
   ]
  },
  {
   "cell_type": "code",
   "execution_count": 349,
   "metadata": {
    "colab": {
     "base_uri": "https://localhost:8080/",
     "height": 714
    },
    "id": "r0woyB6OEm5l",
    "outputId": "0ee992ad-315b-4ac7-c077-03499084a7ac"
   },
   "outputs": [
    {
     "data": {
      "image/png": "[encoded data removed]",
      "text/plain": [
       "<Figure size 1440x720 with 2 Axes>"
      ]
     },
     "metadata": {
      "needs_background": "light"
     },
     "output_type": "display_data"
    }
   ],
   "source": [
    "fig, (ax1, ax2) = plt.subplots(2, 1, figsize = (20, 10))\n",
    "fig.suptitle(' ')\n",
    "ax1.set(xlabel='', ylabel='% On-Time')\n",
    "ax2.set(xlabel='', ylabel='% On-Time')\n",
    "ax1.set_title('% of Shipments On-Time by Origin City')\n",
    "ax2.set_title('% of Shipments On-Time by Destination City')\n",
    "\n",
    "np.random.seed(77)\n",
    "c=target_percent_agg(train2, 'OriginCity', min=20)\n",
    "rand_ind1 =  np.random.choice(range(len(c)), size=20, replace=False)\n",
    "d=target_percent_agg(train2, 'DestCity', min=20)\n",
    "rand_ind2 =  np.random.choice(range(len(d)), size=20, replace=False)\n",
    "\n",
    "plot_data1 = c.iloc[list(rand_ind1)].sort_values(by=['target_numerical'], axis=0, ascending=False)\n",
    "plot_data2 = d.iloc[list(rand_ind2)].sort_values(by=['target_numerical'], axis=0, ascending=False)\n",
    "\n",
    "ax1.bar(x = list(plot_data1.index), height = list(plot_data1.target_numerical), color = \"gold\")\n",
    "ax2.bar(x = list(plot_data2.index), height = list(plot_data2.target_numerical), color = \"gold\")\n",
    "\n",
    "ax1.set_xticklabels(list(plot_data1.index), rotation = 45, va=\"top\", ha='right',  rotation_mode=\"anchor\")   \n",
    "ax2.set_xticklabels(list(plot_data2.index), rotation = 45, va=\"top\", ha='right',  rotation_mode=\"anchor\") \n",
    "plt.subplots_adjust(hspace=0.75)\n",
    "\n",
    "fig.show()"
   ]
  },
  {
   "cell_type": "markdown",
   "metadata": {
    "id": "w5i7T0-OC2sp"
   },
   "source": [
    "The plots show that the Origin City and  Destination City of the shipment are very important factors for determining whether a shipment will arrive on time.    \n",
    "On-time percentages for cities are even more variable than for states. Some cities have 100% success rates and some are barely over 25%.   \n",
    "This is an important finding because we can flag certain shipments as late risks just from the cities they're coming from or heading toward.  \n",
    "Note that there are hundreds of Origin and  Destination cities, so I showed a random selection of 20 of each type of city.  "
   ]
  },
  {
   "cell_type": "markdown",
   "metadata": {
    "id": "55vtdzgfp0IE"
   },
   "source": [
    "## **Finding (iii)**\n",
    "**Distance of Customer**"
   ]
  },
  {
   "cell_type": "code",
   "execution_count": 350,
   "metadata": {
    "colab": {
     "base_uri": "https://localhost:8080/",
     "height": 522
    },
    "id": "AN_c6aizsQP0",
    "outputId": "cd322f97-6d4a-44be-93a7-691a0aff75eb"
   },
   "outputs": [
    {
     "data": {
      "image/png": "[encoded data removed]",
      "text/plain": [
       "<Figure size 1080x576 with 1 Axes>"
      ]
     },
     "metadata": {
      "needs_background": "light"
     },
     "output_type": "display_data"
    }
   ],
   "source": [
    "bins = pd.cut(train2['CustomerDistance'], bins=10)\n",
    "train_temp = train2[['CustomerDistance', 'target_numerical']].copy()\n",
    "train_temp['bins'] = bins\n",
    "#target_percent_agg(train_temp, 'bins', min=15)\n",
    "\n",
    "plt.figure(figsize = (15, 8))\n",
    "plt.xlabel('Max distance in bin (miles)', fontsize=20) \n",
    "plt.ylabel(\"% On Time\", fontsize=20)\n",
    "plt.title('% of Shipments On-Time by Customer Distance')\n",
    "\n",
    "plot_data = target_percent_agg(train_temp, 'bins', min=15)\n",
    "xlabels = ['308', '617', '925', '1233', '1542', '1850', '2159', '2467', '2775', '3084']\n",
    "plt.bar(x = xlabels, height = list(plot_data.target_numerical), color = \"salmon\" )\n",
    "plt.show()"
   ]
  },
  {
   "cell_type": "markdown",
   "metadata": {
    "id": "kOhexS8jzUwt"
   },
   "source": [
    "The plot shows that Customer Distance is a somewhat important predictor, but not as important as intuition would suggest. I assumed that the farther a shipment had to travel to reach a customer, the higher the potential of something going wrong and making it late.  \n",
    "The highest on-time percentage is the shortest group of distances, and the lower percentages are in the upper half of the Customer Distances, but the percentage doesn't drop off consistently as distance increases, as I expected.    \n",
    "This is important so that customers and people sending things far away know that their distance isn't a huge late delivery risk, but it is something to keep an eye on.  "
   ]
  },
  {
   "cell_type": "markdown",
   "metadata": {
    "id": "_TxIetPg0XiM"
   },
   "source": [
    "## **Finding (iv)**\n",
    "**Week of Arrival at Final Port**"
   ]
  },
  {
   "cell_type": "code",
   "execution_count": 351,
   "metadata": {
    "colab": {
     "base_uri": "https://localhost:8080/",
     "height": 522
    },
    "id": "HIDBU0ClzYKX",
    "outputId": "5712f1d1-051b-41ce-804a-f0f2f7a2f3e8"
   },
   "outputs": [
    {
     "data": {
      "image/png": "[encoded data removed]",
      "text/plain": [
       "<Figure size 1080x576 with 1 Axes>"
      ]
     },
     "metadata": {
      "needs_background": "light"
     },
     "output_type": "display_data"
    }
   ],
   "source": [
    "plt.figure(figsize = (15, 8))\n",
    "plt.xlabel('AV Week', fontsize=20) \n",
    "plt.ylabel(\"% On Time\", fontsize=20)\n",
    "plt.title('% of Shipments On-Time by AV (Arrival at final port) Week')\n",
    "\n",
    "plot_data = target_percent_agg(train2, 'AVWeek', min=10)\n",
    "\n",
    "plt.bar(x = list(plot_data.index), height = list(plot_data.target_numerical), color = \"plum\" )\n",
    "plt.show()"
   ]
  },
  {
   "cell_type": "markdown",
   "metadata": {
    "id": "6z5NcLlA5ngg"
   },
   "source": [
    "The plots show that week of Arrival at the final port is an important predictor of whether or not the shipment will arrive on time.   \n",
    "Shipments arriving in the last couple weeks of the year have decreasingly likely chance of making it on time. Week 49 arrivals have only a 50% chance of making it on time and Week 50 arrivals have only a 9% chance (although this percentage is based on only 11 total shipments). This sharp downturn in percentages is probably due to the holiday season, when  people take off work and lots of extra packages are being shipped (not necessarily in this data set).  \n",
    "This is important because people are especially concerned with shipments being delivered on-time during the holiday season. The company may want to be extra concered with these shipments, so that they don't lose business.  "
   ]
  },
  {
   "cell_type": "markdown",
   "metadata": {
    "id": "Ngwy_202-J65"
   },
   "source": [
    "## **Finding (v)**\n",
    "**Other categorical variables**"
   ]
  },
  {
   "cell_type": "code",
   "execution_count": 352,
   "metadata": {
    "colab": {
     "base_uri": "https://localhost:8080/",
     "height": 540
    },
    "id": "cCafc3-3C5u_",
    "outputId": "cddbdf39-4082-49af-a505-bafc127cc386"
   },
   "outputs": [
    {
     "data": {
      "image/png": "[encoded data removed]",
      "text/plain": [
       "<Figure size 1440x576 with 2 Axes>"
      ]
     },
     "metadata": {
      "needs_background": "light"
     },
     "output_type": "display_data"
    }
   ],
   "source": [
    "fig, (ax1, ax2) = plt.subplots(1, 2, figsize = (20, 8))\n",
    "fig.suptitle(' ')\n",
    "ax1.set(xlabel='', ylabel='% On-Time')\n",
    "ax2.set(xlabel='', ylabel='% On-Time')\n",
    "ax1.set_title('% of Shipments On-Time by DetailCode')\n",
    "ax2.set_title('% of Shipments On-Time by Carrier')\n",
    "\n",
    "plot_data1 = target_percent_agg(train2, 'DetailCode', min=15).\\\n",
    "  sort_values(by=['target_numerical'], axis=0, ascending=False)\n",
    "plot_data2 = target_percent_agg(train2, 'Carrier', min=15) \n",
    "\n",
    "ax1.bar(x = list(plot_data1.index), height = list(plot_data1.target_numerical) , color = \"lightblue\")\n",
    "ax2.bar(x = list(plot_data2.index), height = list(plot_data2.target_numerical) , color = \"lightblue\")\n",
    "\n",
    "#plt.subplots_adjust(top = 0.99, bottom=0.01, hspace=1, wspace=0.4)\n",
    "plt.subplots_adjust(hspace=0.4)\n",
    "\n",
    "fig.show()"
   ]
  },
  {
   "cell_type": "markdown",
   "metadata": {
    "id": "wHkFlOmnC52e"
   },
   "source": [
    "I'm guessing the DetailCode is some kind of code categorizing the content of the shipment. Whether I'm right or not, it's clear that DetailCode is an important predictor of on-time percentage. Shipments with code 'AV' are on-time about 90% of the time, while those with code 'X4' are only on-time about 64% of the time.    \n",
    "Lastly, the Carrier, (company that transports the shipments) has a huge effect on the likelihood of on-time delivery. Carrier Company 4 delivers almost 90% of shipments on time while Carrier 3 only gets half of its shipments there on-time. Both carriers were involved in a large number of shipments, so the discrepancy is not due to chance.    \n",
    "This is useful in showing that a large chunk of shipments can be considered late delivery risks as soon as the Carrier is known. When possible, Carrier 4 should be preferred over Carrier 3.   \n",
    "Note that there were 3 other carriers but they all had a very small number of associated observations. "
   ]
  },
  {
   "cell_type": "markdown",
   "metadata": {
    "id": "niphB21ufjh1"
   },
   "source": [
    "# **2. Model**\n",
    "\n",
    "I'll try 3 types of classification models: logistic regression, random forest, and adaptive boosting (Adaboost). All 3 models are known for being good classifiers, but logistic regression can have trouble with non-normal data, and Adaboost can also have trouble with outliers. So, I'll try to prepare the data with a little more pre-processing, as appropriate."
   ]
  },
  {
   "cell_type": "markdown",
   "metadata": {
    "id": "f3TvCaMJVDzc"
   },
   "source": [
    "## **Setup**\n",
    "Load libraries:"
   ]
  },
  {
   "cell_type": "code",
   "execution_count": 353,
   "metadata": {
    "id": "dbd0DY5UfiQE"
   },
   "outputs": [],
   "source": [
    "from sklearn import preprocessing\n",
    "\n",
    "from sklearn.linear_model import LogisticRegression\n",
    "from sklearn.ensemble import RandomForestClassifier\n",
    "from sklearn.ensemble import AdaBoostClassifier\n",
    "\n",
    "from sklearn.metrics import accuracy_score, confusion_matrix\n",
    "from sklearn.model_selection import GridSearchCV\n",
    "\n",
    "from sklearn.model_selection import RandomizedSearchCV\n"
   ]
  },
  {
   "cell_type": "markdown",
   "metadata": {
    "id": "Hbvf484fXeN4"
   },
   "source": [
    "## More preprocessing and naming independent/dependent variables.\n",
    "\n",
    "Each type of model requires different types of standardization for the numeric variables.   \n",
    " \n",
    "*   Logistic regression works best with normal data, so I'll use the StandardScaler from sklearn. Separately I'll try log-transforming all the right-skewed variables so that they're closer to normal. Then I'll use MinMaxScaler to preserve those distributions while getting them on the same scale as the non-log-transformed features. \n",
    "*   Random forest shouldn't require standardization.  \n",
    "*   Adaboost can be sensitive to outliers so I'll use the RobustScaler from sklearn OR just log-transform all the right-skewed variables again because that also does a good job with outliers.\n"
   ]
  },
  {
   "cell_type": "code",
   "execution_count": 354,
   "metadata": {
    "id": "7urFdONjfiZG"
   },
   "outputs": [],
   "source": [
    "#Keep track of numeric columns and their issues\n",
    "numeric_cols = [ 'DeliveryDays', 'ServiceDays', 'Weight',         \n",
    "                 'CustomerDistance', 'InvoiceCost', 'Quantity']\n",
    "right_skew_cols = [ 'DeliveryDays', 'Weight',                     \n",
    "                 'CustomerDistance', 'InvoiceCost', 'Quantity']\n",
    "outlier_cols = ['DeliveryDays', 'InvoiceCost', 'Quantity']        \n",
    "\n",
    "#Make datasets for each estimator:\n",
    "fulldata_log1 = fulldata_dum.copy()\n",
    "fulldata_log2 = fulldata_dum.copy()\n",
    "\n",
    "fulldata_rf = fulldata_dum.copy()\n",
    "\n",
    "fulldata_ada1 = fulldata_dum.copy()\n",
    "fulldata_ada2 = fulldata_dum.copy()"
   ]
  },
  {
   "cell_type": "code",
   "execution_count": 355,
   "metadata": {
    "id": "7364mKmWfibe"
   },
   "outputs": [],
   "source": [
    "#for logistic regression\n",
    "#numeric transform methods 1/2:\n",
    "#1. StandardScaler on all numeric columns\n",
    "scaler = preprocessing.StandardScaler()\n",
    "fulldata_log1[numeric_cols] = scaler.fit_transform(fulldata_log1[numeric_cols])\n",
    "#resplit data:\n",
    "train_log1 = fulldata_log1.iloc[:first_test_ind]\n",
    "test_log1 = fulldata_log1.iloc[first_test_ind:]\n",
    "#X/y:\n",
    "X_train_log1, y_train_log1, X_test_log1, y_test_log1 = ( train_log1.drop(columns=['target_numerical']), \n",
    "  train_log1.target_numerical, test_log1.drop(columns=['target_numerical']), test_log1.target_numerical )\n",
    "\n",
    "#2. Log tranform right skewed columns, then MinMaxScaler\n",
    "fulldata_log2[right_skew_cols] = np.log(fulldata_log2[right_skew_cols] + 0.01)\n",
    "scaler = preprocessing.MinMaxScaler()\n",
    "fulldata_log2[numeric_cols] = scaler.fit_transform(fulldata_log2[numeric_cols])\n",
    "#resplit data:\n",
    "train_log2 = fulldata_log2.iloc[:first_test_ind]\n",
    "test_log2 = fulldata_log2.iloc[first_test_ind:]\n",
    "#X/y:\n",
    "X_train_log2, y_train_log2, X_test_log2, y_test_log2 = ( train_log2.drop(columns=['target_numerical']), \n",
    "  train_log2.target_numerical, test_log2.drop(columns=['target_numerical']), test_log2.target_numerical )"
   ]
  },
  {
   "cell_type": "code",
   "execution_count": 356,
   "metadata": {
    "id": "sn8MuV3wjuLb"
   },
   "outputs": [],
   "source": [
    "#for random forest: No transform needed\n",
    "\n",
    "#resplit data:\n",
    "train_rf = fulldata_rf.iloc[:first_test_ind]\n",
    "test_rf = fulldata_rf.iloc[first_test_ind:]\n",
    "#X/y:\n",
    "X_train_rf, y_train_rf, X_test_rf, y_test_rf = ( train_rf.drop(columns=['target_numerical']), \n",
    "  train_rf.target_numerical, test_rf.drop(columns=['target_numerical']), test_rf.target_numerical )"
   ]
  },
  {
   "cell_type": "code",
   "execution_count": 357,
   "metadata": {
    "id": "8M_Cb3dTmzFL"
   },
   "outputs": [],
   "source": [
    "#for adaboost: \n",
    "#1. Robust scaler on outlier columns  \n",
    "scaler = preprocessing.RobustScaler()\n",
    "fulldata_ada1[outlier_cols] = scaler.fit_transform(fulldata_ada1[outlier_cols])\n",
    "#resplit data:\n",
    "train_ada1 = fulldata_ada1.iloc[:first_test_ind]\n",
    "test_ada1 = fulldata_ada1.iloc[first_test_ind:]\n",
    "#X/y:\n",
    "X_train_ada1, y_train_ada1, X_test_ada1, y_test_ada1 = ( train_ada1.drop(columns=['target_numerical']), \n",
    "  train_ada1.target_numerical, test_ada1.drop(columns=['target_numerical']), test_ada1.target_numerical )\n",
    "\n",
    "#2. The same log-transformed data as used for the 2nd logistic regression model\n",
    "fulldata_ada2 = fulldata_log2.copy()\n",
    "#resplit data:\n",
    "train_ada2 = fulldata_ada2.iloc[:first_test_ind]\n",
    "test_ada2 = fulldata_ada2.iloc[first_test_ind:]\n",
    "#X/y:\n",
    "X_train_ada2, y_train_ada2, X_test_ada2, y_test_ada2 = ( train_ada2.drop(columns=['target_numerical']), \n",
    "  train_ada2.target_numerical, test_ada2.drop(columns=['target_numerical']), test_ada2.target_numerical )"
   ]
  },
  {
   "cell_type": "markdown",
   "metadata": {
    "id": "yQyv2rBn2rni"
   },
   "source": [
    "## **Create and fit/tune models:**"
   ]
  },
  {
   "cell_type": "markdown",
   "metadata": {
    "id": "XJNAWxmuSjFN"
   },
   "source": [
    "### *Logistic models*"
   ]
  },
  {
   "cell_type": "code",
   "execution_count": 358,
   "metadata": {
    "id": "QtTlxcB1fif0"
   },
   "outputs": [],
   "source": [
    "#Initiate models\n",
    "log1 = LogisticRegression(random_state = 77)  #defaults: penalty = 'l2', C = 1 \n",
    "log2 = LogisticRegression(random_state = 77)"
   ]
  },
  {
   "cell_type": "markdown",
   "metadata": {
    "id": "CU0zOhISYo0X"
   },
   "source": [
    "**Logistic Model 1:**"
   ]
  },
  {
   "cell_type": "code",
   "execution_count": 359,
   "metadata": {
    "colab": {
     "base_uri": "https://localhost:8080/",
     "height": 118
    },
    "id": "6oGJF3wivNWX",
    "outputId": "9e0e4cc0-fd0f-49b1-8402-3c341d7249a9"
   },
   "outputs": [
    {
     "data": {
      "text/html": [
       "<style>#sk-container-id-39 {color: black;background-color: white;}#sk-container-id-39 pre{padding: 0;}#sk-container-id-39 div.sk-toggleable {background-color: white;}#sk-container-id-39 label.sk-toggleable__label {cursor: pointer;display: block;width: 100%;margin-bottom: 0;padding: 0.3em;box-sizing: border-box;text-align: center;}#sk-container-id-39 label.sk-toggleable__label-arrow:before {content: \"▸\";float: left;margin-right: 0.25em;color: #696969;}#sk-container-id-39 label.sk-toggleable__label-arrow:hover:before {color: black;}#sk-container-id-39 div.sk-estimator:hover label.sk-toggleable__label-arrow:before {color: black;}#sk-container-id-39 div.sk-toggleable__content {max-height: 0;max-width: 0;overflow: hidden;text-align: left;background-color: #f0f8ff;}#sk-container-id-39 div.sk-toggleable__content pre {margin: 0.2em;color: black;border-radius: 0.25em;background-color: #f0f8ff;}#sk-container-id-39 input.sk-toggleable__control:checked~div.sk-toggleable__content {max-height: 200px;max-width: 100%;overflow: auto;}#sk-container-id-39 input.sk-toggleable__control:checked~label.sk-toggleable__label-arrow:before {content: \"▾\";}#sk-container-id-39 div.sk-estimator input.sk-toggleable__control:checked~label.sk-toggleable__label {background-color: #d4ebff;}#sk-container-id-39 div.sk-label input.sk-toggleable__control:checked~label.sk-toggleable__label {background-color: #d4ebff;}#sk-container-id-39 input.sk-hidden--visually {border: 0;clip: rect(1px 1px 1px 1px);clip: rect(1px, 1px, 1px, 1px);height: 1px;margin: -1px;overflow: hidden;padding: 0;position: absolute;width: 1px;}#sk-container-id-39 div.sk-estimator {font-family: monospace;background-color: #f0f8ff;border: 1px dotted black;border-radius: 0.25em;box-sizing: border-box;margin-bottom: 0.5em;}#sk-container-id-39 div.sk-estimator:hover {background-color: #d4ebff;}#sk-container-id-39 div.sk-parallel-item::after {content: \"\";width: 100%;border-bottom: 1px solid gray;flex-grow: 1;}#sk-container-id-39 div.sk-label:hover label.sk-toggleable__label {background-color: #d4ebff;}#sk-container-id-39 div.sk-serial::before {content: \"\";position: absolute;border-left: 1px solid gray;box-sizing: border-box;top: 0;bottom: 0;left: 50%;z-index: 0;}#sk-container-id-39 div.sk-serial {display: flex;flex-direction: column;align-items: center;background-color: white;padding-right: 0.2em;padding-left: 0.2em;position: relative;}#sk-container-id-39 div.sk-item {position: relative;z-index: 1;}#sk-container-id-39 div.sk-parallel {display: flex;align-items: stretch;justify-content: center;background-color: white;position: relative;}#sk-container-id-39 div.sk-item::before, #sk-container-id-39 div.sk-parallel-item::before {content: \"\";position: absolute;border-left: 1px solid gray;box-sizing: border-box;top: 0;bottom: 0;left: 50%;z-index: -1;}#sk-container-id-39 div.sk-parallel-item {display: flex;flex-direction: column;z-index: 1;position: relative;background-color: white;}#sk-container-id-39 div.sk-parallel-item:first-child::after {align-self: flex-end;width: 50%;}#sk-container-id-39 div.sk-parallel-item:last-child::after {align-self: flex-start;width: 50%;}#sk-container-id-39 div.sk-parallel-item:only-child::after {width: 0;}#sk-container-id-39 div.sk-dashed-wrapped {border: 1px dashed gray;margin: 0 0.4em 0.5em 0.4em;box-sizing: border-box;padding-bottom: 0.4em;background-color: white;}#sk-container-id-39 div.sk-label label {font-family: monospace;font-weight: bold;display: inline-block;line-height: 1.2em;}#sk-container-id-39 div.sk-label-container {text-align: center;}#sk-container-id-39 div.sk-container {/* jupyter's `normalize.less` sets `[hidden] { display: none; }` but bootstrap.min.css set `[hidden] { display: none !important; }` so we also need the `!important` here to be able to override the default hidden behavior on the sphinx rendered scikit-learn.org. See: https://github.com/scikit-learn/scikit-learn/issues/21755 */display: inline-block !important;position: relative;}#sk-container-id-39 div.sk-text-repr-fallback {display: none;}</style><div id=\"sk-container-id-39\" class=\"sk-top-container\"><div class=\"sk-text-repr-fallback\"><pre>GridSearchCV(estimator=LogisticRegression(random_state=77), n_jobs=-1,\n",
       "             param_grid={&#x27;C&#x27;: [0.01], &#x27;penalty&#x27;: [&#x27;l2&#x27;]}, scoring=&#x27;accuracy&#x27;)</pre><b>In a Jupyter environment, please rerun this cell to show the HTML representation or trust the notebook. <br />On GitHub, the HTML representation is unable to render, please try loading this page with nbviewer.org.</b></div><div class=\"sk-container\" hidden><div class=\"sk-item sk-dashed-wrapped\"><div class=\"sk-label-container\"><div class=\"sk-label sk-toggleable\"><input class=\"sk-toggleable__control sk-hidden--visually\" id=\"sk-estimator-id-105\" type=\"checkbox\" ><label for=\"sk-estimator-id-105\" class=\"sk-toggleable__label sk-toggleable__label-arrow\">GridSearchCV</label><div class=\"sk-toggleable__content\"><pre>GridSearchCV(estimator=LogisticRegression(random_state=77), n_jobs=-1,\n",
       "             param_grid={&#x27;C&#x27;: [0.01], &#x27;penalty&#x27;: [&#x27;l2&#x27;]}, scoring=&#x27;accuracy&#x27;)</pre></div></div></div><div class=\"sk-parallel\"><div class=\"sk-parallel-item\"><div class=\"sk-item\"><div class=\"sk-label-container\"><div class=\"sk-label sk-toggleable\"><input class=\"sk-toggleable__control sk-hidden--visually\" id=\"sk-estimator-id-106\" type=\"checkbox\" ><label for=\"sk-estimator-id-106\" class=\"sk-toggleable__label sk-toggleable__label-arrow\">estimator: LogisticRegression</label><div class=\"sk-toggleable__content\"><pre>LogisticRegression(random_state=77)</pre></div></div></div><div class=\"sk-serial\"><div class=\"sk-item\"><div class=\"sk-estimator sk-toggleable\"><input class=\"sk-toggleable__control sk-hidden--visually\" id=\"sk-estimator-id-107\" type=\"checkbox\" ><label for=\"sk-estimator-id-107\" class=\"sk-toggleable__label sk-toggleable__label-arrow\">LogisticRegression</label><div class=\"sk-toggleable__content\"><pre>LogisticRegression(random_state=77)</pre></div></div></div></div></div></div></div></div></div></div>"
      ],
      "text/plain": [
       "GridSearchCV(estimator=LogisticRegression(random_state=77), n_jobs=-1,\n",
       "             param_grid={'C': [0.01], 'penalty': ['l2']}, scoring='accuracy')"
      ]
     },
     "execution_count": 359,
     "metadata": {},
     "output_type": "execute_result"
    }
   ],
   "source": [
    "#Hyperparameters to try:\n",
    "params_grid_log1 = { \"penalty\" : [ 'l2'], \"C\" : [ 0.01] }  #also tried: 'l1'; 0.05, 0.1, 0.2, 0.3, 0.4, 1\n",
    "  #Note: I took most of the parameter options I tried out of the grid, so it doesn't go too slow if someone runs this code\n",
    "    #The same goes for the other models\n",
    "#Create search object:\n",
    "grid_search_log1 = GridSearchCV(estimator = log1, param_grid = params_grid_log1,  n_jobs = -1, scoring = \"accuracy\")\n",
    "#Search:\n",
    "grid_search_log1.fit(X_train_log1, y_train_log1)  #time with 2/6 params: 2:20"
   ]
  },
  {
   "cell_type": "code",
   "execution_count": 360,
   "metadata": {
    "colab": {
     "base_uri": "https://localhost:8080/"
    },
    "id": "le5nZMLCRNpq",
    "outputId": "fa2d0645-bf9f-4000-a0d6-6bb02547b1e0"
   },
   "outputs": [
    {
     "name": "stdout",
     "output_type": "stream",
     "text": [
      "best parameters:  {'C': 0.01, 'penalty': 'l2'}\n",
      "(train accurary, test accuracy):\n"
     ]
    },
    {
     "data": {
      "text/plain": [
       "(0.873, 0.7639)"
      ]
     },
     "execution_count": 360,
     "metadata": {},
     "output_type": "execute_result"
    }
   ],
   "source": [
    "print(\"best parameters: \", grid_search_log1.best_params_ )\n",
    "print('(train accurary, test accuracy):')\n",
    "log1_best = grid_search_log1.best_estimator_ \n",
    "(  round(accuracy_score(y_true = y_train_log1, y_pred = log1_best.predict(X_train_log1) ), 4),  \n",
    "  round(accuracy_score(y_true = y_test_log1, y_pred = log1_best.predict(X_test_log1)), 4)  )   "
   ]
  },
  {
   "cell_type": "markdown",
   "metadata": {
    "id": "sv6p_y3NYsQk"
   },
   "source": [
    "**Logistic Model 2:**"
   ]
  },
  {
   "cell_type": "code",
   "execution_count": 361,
   "metadata": {
    "colab": {
     "base_uri": "https://localhost:8080/",
     "height": 118
    },
    "id": "h5FciXoSQhCc",
    "outputId": "14dcd9b6-e6af-42f6-aea2-4b455cde0a82"
   },
   "outputs": [
    {
     "data": {
      "text/html": [
       "<style>#sk-container-id-40 {color: black;background-color: white;}#sk-container-id-40 pre{padding: 0;}#sk-container-id-40 div.sk-toggleable {background-color: white;}#sk-container-id-40 label.sk-toggleable__label {cursor: pointer;display: block;width: 100%;margin-bottom: 0;padding: 0.3em;box-sizing: border-box;text-align: center;}#sk-container-id-40 label.sk-toggleable__label-arrow:before {content: \"▸\";float: left;margin-right: 0.25em;color: #696969;}#sk-container-id-40 label.sk-toggleable__label-arrow:hover:before {color: black;}#sk-container-id-40 div.sk-estimator:hover label.sk-toggleable__label-arrow:before {color: black;}#sk-container-id-40 div.sk-toggleable__content {max-height: 0;max-width: 0;overflow: hidden;text-align: left;background-color: #f0f8ff;}#sk-container-id-40 div.sk-toggleable__content pre {margin: 0.2em;color: black;border-radius: 0.25em;background-color: #f0f8ff;}#sk-container-id-40 input.sk-toggleable__control:checked~div.sk-toggleable__content {max-height: 200px;max-width: 100%;overflow: auto;}#sk-container-id-40 input.sk-toggleable__control:checked~label.sk-toggleable__label-arrow:before {content: \"▾\";}#sk-container-id-40 div.sk-estimator input.sk-toggleable__control:checked~label.sk-toggleable__label {background-color: #d4ebff;}#sk-container-id-40 div.sk-label input.sk-toggleable__control:checked~label.sk-toggleable__label {background-color: #d4ebff;}#sk-container-id-40 input.sk-hidden--visually {border: 0;clip: rect(1px 1px 1px 1px);clip: rect(1px, 1px, 1px, 1px);height: 1px;margin: -1px;overflow: hidden;padding: 0;position: absolute;width: 1px;}#sk-container-id-40 div.sk-estimator {font-family: monospace;background-color: #f0f8ff;border: 1px dotted black;border-radius: 0.25em;box-sizing: border-box;margin-bottom: 0.5em;}#sk-container-id-40 div.sk-estimator:hover {background-color: #d4ebff;}#sk-container-id-40 div.sk-parallel-item::after {content: \"\";width: 100%;border-bottom: 1px solid gray;flex-grow: 1;}#sk-container-id-40 div.sk-label:hover label.sk-toggleable__label {background-color: #d4ebff;}#sk-container-id-40 div.sk-serial::before {content: \"\";position: absolute;border-left: 1px solid gray;box-sizing: border-box;top: 0;bottom: 0;left: 50%;z-index: 0;}#sk-container-id-40 div.sk-serial {display: flex;flex-direction: column;align-items: center;background-color: white;padding-right: 0.2em;padding-left: 0.2em;position: relative;}#sk-container-id-40 div.sk-item {position: relative;z-index: 1;}#sk-container-id-40 div.sk-parallel {display: flex;align-items: stretch;justify-content: center;background-color: white;position: relative;}#sk-container-id-40 div.sk-item::before, #sk-container-id-40 div.sk-parallel-item::before {content: \"\";position: absolute;border-left: 1px solid gray;box-sizing: border-box;top: 0;bottom: 0;left: 50%;z-index: -1;}#sk-container-id-40 div.sk-parallel-item {display: flex;flex-direction: column;z-index: 1;position: relative;background-color: white;}#sk-container-id-40 div.sk-parallel-item:first-child::after {align-self: flex-end;width: 50%;}#sk-container-id-40 div.sk-parallel-item:last-child::after {align-self: flex-start;width: 50%;}#sk-container-id-40 div.sk-parallel-item:only-child::after {width: 0;}#sk-container-id-40 div.sk-dashed-wrapped {border: 1px dashed gray;margin: 0 0.4em 0.5em 0.4em;box-sizing: border-box;padding-bottom: 0.4em;background-color: white;}#sk-container-id-40 div.sk-label label {font-family: monospace;font-weight: bold;display: inline-block;line-height: 1.2em;}#sk-container-id-40 div.sk-label-container {text-align: center;}#sk-container-id-40 div.sk-container {/* jupyter's `normalize.less` sets `[hidden] { display: none; }` but bootstrap.min.css set `[hidden] { display: none !important; }` so we also need the `!important` here to be able to override the default hidden behavior on the sphinx rendered scikit-learn.org. See: https://github.com/scikit-learn/scikit-learn/issues/21755 */display: inline-block !important;position: relative;}#sk-container-id-40 div.sk-text-repr-fallback {display: none;}</style><div id=\"sk-container-id-40\" class=\"sk-top-container\"><div class=\"sk-text-repr-fallback\"><pre>GridSearchCV(estimator=LogisticRegression(random_state=77), n_jobs=-1,\n",
       "             param_grid={&#x27;C&#x27;: [0.01, 0.05, 0.1], &#x27;penalty&#x27;: [&#x27;l1&#x27;, &#x27;l2&#x27;]},\n",
       "             scoring=&#x27;accuracy&#x27;)</pre><b>In a Jupyter environment, please rerun this cell to show the HTML representation or trust the notebook. <br />On GitHub, the HTML representation is unable to render, please try loading this page with nbviewer.org.</b></div><div class=\"sk-container\" hidden><div class=\"sk-item sk-dashed-wrapped\"><div class=\"sk-label-container\"><div class=\"sk-label sk-toggleable\"><input class=\"sk-toggleable__control sk-hidden--visually\" id=\"sk-estimator-id-108\" type=\"checkbox\" ><label for=\"sk-estimator-id-108\" class=\"sk-toggleable__label sk-toggleable__label-arrow\">GridSearchCV</label><div class=\"sk-toggleable__content\"><pre>GridSearchCV(estimator=LogisticRegression(random_state=77), n_jobs=-1,\n",
       "             param_grid={&#x27;C&#x27;: [0.01, 0.05, 0.1], &#x27;penalty&#x27;: [&#x27;l1&#x27;, &#x27;l2&#x27;]},\n",
       "             scoring=&#x27;accuracy&#x27;)</pre></div></div></div><div class=\"sk-parallel\"><div class=\"sk-parallel-item\"><div class=\"sk-item\"><div class=\"sk-label-container\"><div class=\"sk-label sk-toggleable\"><input class=\"sk-toggleable__control sk-hidden--visually\" id=\"sk-estimator-id-109\" type=\"checkbox\" ><label for=\"sk-estimator-id-109\" class=\"sk-toggleable__label sk-toggleable__label-arrow\">estimator: LogisticRegression</label><div class=\"sk-toggleable__content\"><pre>LogisticRegression(random_state=77)</pre></div></div></div><div class=\"sk-serial\"><div class=\"sk-item\"><div class=\"sk-estimator sk-toggleable\"><input class=\"sk-toggleable__control sk-hidden--visually\" id=\"sk-estimator-id-110\" type=\"checkbox\" ><label for=\"sk-estimator-id-110\" class=\"sk-toggleable__label sk-toggleable__label-arrow\">LogisticRegression</label><div class=\"sk-toggleable__content\"><pre>LogisticRegression(random_state=77)</pre></div></div></div></div></div></div></div></div></div></div>"
      ],
      "text/plain": [
       "GridSearchCV(estimator=LogisticRegression(random_state=77), n_jobs=-1,\n",
       "             param_grid={'C': [0.01, 0.05, 0.1], 'penalty': ['l1', 'l2']},\n",
       "             scoring='accuracy')"
      ]
     },
     "execution_count": 361,
     "metadata": {},
     "output_type": "execute_result"
    }
   ],
   "source": [
    "#Hyperparameters to try:\n",
    "params_grid_log2 = { \"penalty\" : [ 'l2'], \"C\" : [ 0.01] }  #also tried: 'l1','elasticnet'; 0.0001, 0.025, 0.05, 0.1, 0.2, 0.3, 0.4, 1, 2, 3, ...\n",
    "#Create search object:\n",
    "grid_search_log2 = GridSearchCV(estimator = log2, param_grid = params_grid_log12,  n_jobs = -1, scoring = \"accuracy\")\n",
    "#Search:\n",
    "grid_search_log2.fit(X_train_log2, y_train_log2)  # "
   ]
  },
  {
   "cell_type": "code",
   "execution_count": 362,
   "metadata": {
    "colab": {
     "base_uri": "https://localhost:8080/"
    },
    "id": "0pDHhafjP3TL",
    "outputId": "42b4d074-d4c7-42a6-b688-a6656f18a1d2"
   },
   "outputs": [
    {
     "name": "stdout",
     "output_type": "stream",
     "text": [
      "best parameters:  {'C': 0.01, 'penalty': 'l2'}\n",
      "(train accurary, test accuracy):\n"
     ]
    },
    {
     "data": {
      "text/plain": [
       "(0.8722, 0.7679)"
      ]
     },
     "execution_count": 362,
     "metadata": {},
     "output_type": "execute_result"
    }
   ],
   "source": [
    "print(\"best parameters: \", grid_search_log2.best_params_ )\n",
    "print('(train accurary, test accuracy):')\n",
    "log2_best = grid_search_log2.best_estimator_ \n",
    "(  round(accuracy_score(y_true = y_train_log2, y_pred = log1_best.predict(X_train_log2) ), 4),  \n",
    "  round(accuracy_score(y_true = y_test_log2, y_pred = log1_best.predict(X_test_log2)), 4)  )  "
   ]
  },
  {
   "cell_type": "markdown",
   "metadata": {
    "id": "9yi-IZ4OVVT8"
   },
   "source": [
    "The best logistic model (by 0.004) is the second one, where some numerical variables were log-transformed, an L2 penalty is used, and C = 0.01 (penalty = 1/0.01 = 100). It's accuracy on the test data is 76.79%.   \n",
    "\n",
    "Note: A model that always predicted 'on-time' would have an accuracy of 69.89%. So, at least this is more accurate than that baseline. \n"
   ]
  },
  {
   "cell_type": "code",
   "execution_count": 363,
   "metadata": {
    "colab": {
     "base_uri": "https://localhost:8080/"
    },
    "id": "qXCVPO7uWMhb",
    "outputId": "b9eb69f9-5b2c-4b38-ec6f-97c71ea68df7"
   },
   "outputs": [
    {
     "data": {
      "text/plain": [
       "0.6989174560216509"
      ]
     },
     "execution_count": 363,
     "metadata": {},
     "output_type": "execute_result"
    }
   ],
   "source": [
    "sum(y_test_log1) / len(y_test_log1)"
   ]
  },
  {
   "cell_type": "markdown",
   "metadata": {
    "id": "LeOxWtuvS3jb"
   },
   "source": [
    "### *Random Forest model*"
   ]
  },
  {
   "cell_type": "code",
   "execution_count": 364,
   "metadata": {
    "id": "pe6mSZgtNZe3"
   },
   "outputs": [],
   "source": [
    "#Initiate model\n",
    "rf = RandomForestClassifier(n_estimators = 100,  random_state = 77) #max_features default = sqrt(p) ~= 52, min_samples_split default = 2"
   ]
  },
  {
   "cell_type": "code",
   "execution_count": 365,
   "metadata": {
    "colab": {
     "base_uri": "https://localhost:8080/",
     "height": 118
    },
    "id": "RwdAxlv9vNYr",
    "outputId": "78e8728d-0758-49c3-f20c-7fd8267619a4"
   },
   "outputs": [
    {
     "data": {
      "text/html": [
       "<style>#sk-container-id-41 {color: black;background-color: white;}#sk-container-id-41 pre{padding: 0;}#sk-container-id-41 div.sk-toggleable {background-color: white;}#sk-container-id-41 label.sk-toggleable__label {cursor: pointer;display: block;width: 100%;margin-bottom: 0;padding: 0.3em;box-sizing: border-box;text-align: center;}#sk-container-id-41 label.sk-toggleable__label-arrow:before {content: \"▸\";float: left;margin-right: 0.25em;color: #696969;}#sk-container-id-41 label.sk-toggleable__label-arrow:hover:before {color: black;}#sk-container-id-41 div.sk-estimator:hover label.sk-toggleable__label-arrow:before {color: black;}#sk-container-id-41 div.sk-toggleable__content {max-height: 0;max-width: 0;overflow: hidden;text-align: left;background-color: #f0f8ff;}#sk-container-id-41 div.sk-toggleable__content pre {margin: 0.2em;color: black;border-radius: 0.25em;background-color: #f0f8ff;}#sk-container-id-41 input.sk-toggleable__control:checked~div.sk-toggleable__content {max-height: 200px;max-width: 100%;overflow: auto;}#sk-container-id-41 input.sk-toggleable__control:checked~label.sk-toggleable__label-arrow:before {content: \"▾\";}#sk-container-id-41 div.sk-estimator input.sk-toggleable__control:checked~label.sk-toggleable__label {background-color: #d4ebff;}#sk-container-id-41 div.sk-label input.sk-toggleable__control:checked~label.sk-toggleable__label {background-color: #d4ebff;}#sk-container-id-41 input.sk-hidden--visually {border: 0;clip: rect(1px 1px 1px 1px);clip: rect(1px, 1px, 1px, 1px);height: 1px;margin: -1px;overflow: hidden;padding: 0;position: absolute;width: 1px;}#sk-container-id-41 div.sk-estimator {font-family: monospace;background-color: #f0f8ff;border: 1px dotted black;border-radius: 0.25em;box-sizing: border-box;margin-bottom: 0.5em;}#sk-container-id-41 div.sk-estimator:hover {background-color: #d4ebff;}#sk-container-id-41 div.sk-parallel-item::after {content: \"\";width: 100%;border-bottom: 1px solid gray;flex-grow: 1;}#sk-container-id-41 div.sk-label:hover label.sk-toggleable__label {background-color: #d4ebff;}#sk-container-id-41 div.sk-serial::before {content: \"\";position: absolute;border-left: 1px solid gray;box-sizing: border-box;top: 0;bottom: 0;left: 50%;z-index: 0;}#sk-container-id-41 div.sk-serial {display: flex;flex-direction: column;align-items: center;background-color: white;padding-right: 0.2em;padding-left: 0.2em;position: relative;}#sk-container-id-41 div.sk-item {position: relative;z-index: 1;}#sk-container-id-41 div.sk-parallel {display: flex;align-items: stretch;justify-content: center;background-color: white;position: relative;}#sk-container-id-41 div.sk-item::before, #sk-container-id-41 div.sk-parallel-item::before {content: \"\";position: absolute;border-left: 1px solid gray;box-sizing: border-box;top: 0;bottom: 0;left: 50%;z-index: -1;}#sk-container-id-41 div.sk-parallel-item {display: flex;flex-direction: column;z-index: 1;position: relative;background-color: white;}#sk-container-id-41 div.sk-parallel-item:first-child::after {align-self: flex-end;width: 50%;}#sk-container-id-41 div.sk-parallel-item:last-child::after {align-self: flex-start;width: 50%;}#sk-container-id-41 div.sk-parallel-item:only-child::after {width: 0;}#sk-container-id-41 div.sk-dashed-wrapped {border: 1px dashed gray;margin: 0 0.4em 0.5em 0.4em;box-sizing: border-box;padding-bottom: 0.4em;background-color: white;}#sk-container-id-41 div.sk-label label {font-family: monospace;font-weight: bold;display: inline-block;line-height: 1.2em;}#sk-container-id-41 div.sk-label-container {text-align: center;}#sk-container-id-41 div.sk-container {/* jupyter's `normalize.less` sets `[hidden] { display: none; }` but bootstrap.min.css set `[hidden] { display: none !important; }` so we also need the `!important` here to be able to override the default hidden behavior on the sphinx rendered scikit-learn.org. See: https://github.com/scikit-learn/scikit-learn/issues/21755 */display: inline-block !important;position: relative;}#sk-container-id-41 div.sk-text-repr-fallback {display: none;}</style><div id=\"sk-container-id-41\" class=\"sk-top-container\"><div class=\"sk-text-repr-fallback\"><pre>GridSearchCV(estimator=RandomForestClassifier(random_state=77), n_jobs=-1,\n",
       "             param_grid={&#x27;max_features&#x27;: [20], &#x27;min_samples_split&#x27;: [2]},\n",
       "             scoring=&#x27;accuracy&#x27;)</pre><b>In a Jupyter environment, please rerun this cell to show the HTML representation or trust the notebook. <br />On GitHub, the HTML representation is unable to render, please try loading this page with nbviewer.org.</b></div><div class=\"sk-container\" hidden><div class=\"sk-item sk-dashed-wrapped\"><div class=\"sk-label-container\"><div class=\"sk-label sk-toggleable\"><input class=\"sk-toggleable__control sk-hidden--visually\" id=\"sk-estimator-id-111\" type=\"checkbox\" ><label for=\"sk-estimator-id-111\" class=\"sk-toggleable__label sk-toggleable__label-arrow\">GridSearchCV</label><div class=\"sk-toggleable__content\"><pre>GridSearchCV(estimator=RandomForestClassifier(random_state=77), n_jobs=-1,\n",
       "             param_grid={&#x27;max_features&#x27;: [20], &#x27;min_samples_split&#x27;: [2]},\n",
       "             scoring=&#x27;accuracy&#x27;)</pre></div></div></div><div class=\"sk-parallel\"><div class=\"sk-parallel-item\"><div class=\"sk-item\"><div class=\"sk-label-container\"><div class=\"sk-label sk-toggleable\"><input class=\"sk-toggleable__control sk-hidden--visually\" id=\"sk-estimator-id-112\" type=\"checkbox\" ><label for=\"sk-estimator-id-112\" class=\"sk-toggleable__label sk-toggleable__label-arrow\">estimator: RandomForestClassifier</label><div class=\"sk-toggleable__content\"><pre>RandomForestClassifier(random_state=77)</pre></div></div></div><div class=\"sk-serial\"><div class=\"sk-item\"><div class=\"sk-estimator sk-toggleable\"><input class=\"sk-toggleable__control sk-hidden--visually\" id=\"sk-estimator-id-113\" type=\"checkbox\" ><label for=\"sk-estimator-id-113\" class=\"sk-toggleable__label sk-toggleable__label-arrow\">RandomForestClassifier</label><div class=\"sk-toggleable__content\"><pre>RandomForestClassifier(random_state=77)</pre></div></div></div></div></div></div></div></div></div></div>"
      ],
      "text/plain": [
       "GridSearchCV(estimator=RandomForestClassifier(random_state=77), n_jobs=-1,\n",
       "             param_grid={'max_features': [20], 'min_samples_split': [2]},\n",
       "             scoring='accuracy')"
      ]
     },
     "execution_count": 365,
     "metadata": {},
     "output_type": "execute_result"
    }
   ],
   "source": [
    "#Hyperparameters to try:\n",
    "params_grid_rf = { \"max_features\" : [ 20], \"min_samples_split\" : [2] }  #also tried:  30, 40 , 50, 60 , 75 ;  3, 5  \n",
    "#Create search object:\n",
    "grid_search_rf = GridSearchCV(estimator = rf, param_grid = params_grid_rf,  n_jobs = -1, scoring = \"accuracy\")\n",
    "#Search:\n",
    "grid_search_rf.fit(X_train_rf, y_train_rf)  #time with 2/2 params: "
   ]
  },
  {
   "cell_type": "code",
   "execution_count": 366,
   "metadata": {
    "colab": {
     "base_uri": "https://localhost:8080/"
    },
    "id": "64-5mUSdTCWo",
    "outputId": "1379fe37-8596-45e4-8e2b-a5a28585ba3c"
   },
   "outputs": [
    {
     "name": "stdout",
     "output_type": "stream",
     "text": [
      "best parameters:  {'max_features': 20, 'min_samples_split': 2}\n",
      "(train accurary, test accuracy):\n"
     ]
    },
    {
     "data": {
      "text/plain": [
       "(1.0, 0.7415)"
      ]
     },
     "execution_count": 366,
     "metadata": {},
     "output_type": "execute_result"
    }
   ],
   "source": [
    "print(\"best parameters: \", grid_search_rf.best_params_ )\n",
    "print('(train accurary, test accuracy):')\n",
    "rf_best = grid_search_rf.best_estimator_ \n",
    "(  round(accuracy_score(y_true = y_train_rf, y_pred = rf_best.predict(X_train_rf) ), 4),  \n",
    "  round(accuracy_score(y_true = y_test_rf, y_pred = rf_best.predict(X_test_rf)), 4)  ) "
   ]
  },
  {
   "cell_type": "markdown",
   "metadata": {
    "id": "uWhfDGU_ZhHH"
   },
   "source": [
    "The best random forest model is the one with a maximum of 20 features per split and a minimum of 2 samples in each split node/internal node. It's accuracy on the test data is 74.15%. The logistic models were better.   "
   ]
  },
  {
   "cell_type": "markdown",
   "metadata": {
    "id": "RA1aYte9TCxu"
   },
   "source": [
    "### *Adaboost models*"
   ]
  },
  {
   "cell_type": "code",
   "execution_count": 367,
   "metadata": {
    "id": "gCezmQ1hTGP5"
   },
   "outputs": [],
   "source": [
    "#Initiate models\n",
    "ada1 = AdaBoostClassifier(learning_rate = 0.1, n_estimators=100,  random_state = 77) #learning_rate default=1, n_estimators default=50\n",
    "ada2 = AdaBoostClassifier(learning_rate = 0.1, n_estimators=100,  random_state = 77) #"
   ]
  },
  {
   "cell_type": "markdown",
   "metadata": {
    "id": "V9MWDocbYyXA"
   },
   "source": [
    "**Adabost Model 1:**"
   ]
  },
  {
   "cell_type": "code",
   "execution_count": 368,
   "metadata": {
    "colab": {
     "base_uri": "https://localhost:8080/",
     "height": 118
    },
    "id": "IVY35tWmTGSF",
    "outputId": "861e0871-dc17-4678-d26c-9d609d5043ca"
   },
   "outputs": [
    {
     "data": {
      "text/html": [
       "<style>#sk-container-id-42 {color: black;background-color: white;}#sk-container-id-42 pre{padding: 0;}#sk-container-id-42 div.sk-toggleable {background-color: white;}#sk-container-id-42 label.sk-toggleable__label {cursor: pointer;display: block;width: 100%;margin-bottom: 0;padding: 0.3em;box-sizing: border-box;text-align: center;}#sk-container-id-42 label.sk-toggleable__label-arrow:before {content: \"▸\";float: left;margin-right: 0.25em;color: #696969;}#sk-container-id-42 label.sk-toggleable__label-arrow:hover:before {color: black;}#sk-container-id-42 div.sk-estimator:hover label.sk-toggleable__label-arrow:before {color: black;}#sk-container-id-42 div.sk-toggleable__content {max-height: 0;max-width: 0;overflow: hidden;text-align: left;background-color: #f0f8ff;}#sk-container-id-42 div.sk-toggleable__content pre {margin: 0.2em;color: black;border-radius: 0.25em;background-color: #f0f8ff;}#sk-container-id-42 input.sk-toggleable__control:checked~div.sk-toggleable__content {max-height: 200px;max-width: 100%;overflow: auto;}#sk-container-id-42 input.sk-toggleable__control:checked~label.sk-toggleable__label-arrow:before {content: \"▾\";}#sk-container-id-42 div.sk-estimator input.sk-toggleable__control:checked~label.sk-toggleable__label {background-color: #d4ebff;}#sk-container-id-42 div.sk-label input.sk-toggleable__control:checked~label.sk-toggleable__label {background-color: #d4ebff;}#sk-container-id-42 input.sk-hidden--visually {border: 0;clip: rect(1px 1px 1px 1px);clip: rect(1px, 1px, 1px, 1px);height: 1px;margin: -1px;overflow: hidden;padding: 0;position: absolute;width: 1px;}#sk-container-id-42 div.sk-estimator {font-family: monospace;background-color: #f0f8ff;border: 1px dotted black;border-radius: 0.25em;box-sizing: border-box;margin-bottom: 0.5em;}#sk-container-id-42 div.sk-estimator:hover {background-color: #d4ebff;}#sk-container-id-42 div.sk-parallel-item::after {content: \"\";width: 100%;border-bottom: 1px solid gray;flex-grow: 1;}#sk-container-id-42 div.sk-label:hover label.sk-toggleable__label {background-color: #d4ebff;}#sk-container-id-42 div.sk-serial::before {content: \"\";position: absolute;border-left: 1px solid gray;box-sizing: border-box;top: 0;bottom: 0;left: 50%;z-index: 0;}#sk-container-id-42 div.sk-serial {display: flex;flex-direction: column;align-items: center;background-color: white;padding-right: 0.2em;padding-left: 0.2em;position: relative;}#sk-container-id-42 div.sk-item {position: relative;z-index: 1;}#sk-container-id-42 div.sk-parallel {display: flex;align-items: stretch;justify-content: center;background-color: white;position: relative;}#sk-container-id-42 div.sk-item::before, #sk-container-id-42 div.sk-parallel-item::before {content: \"\";position: absolute;border-left: 1px solid gray;box-sizing: border-box;top: 0;bottom: 0;left: 50%;z-index: -1;}#sk-container-id-42 div.sk-parallel-item {display: flex;flex-direction: column;z-index: 1;position: relative;background-color: white;}#sk-container-id-42 div.sk-parallel-item:first-child::after {align-self: flex-end;width: 50%;}#sk-container-id-42 div.sk-parallel-item:last-child::after {align-self: flex-start;width: 50%;}#sk-container-id-42 div.sk-parallel-item:only-child::after {width: 0;}#sk-container-id-42 div.sk-dashed-wrapped {border: 1px dashed gray;margin: 0 0.4em 0.5em 0.4em;box-sizing: border-box;padding-bottom: 0.4em;background-color: white;}#sk-container-id-42 div.sk-label label {font-family: monospace;font-weight: bold;display: inline-block;line-height: 1.2em;}#sk-container-id-42 div.sk-label-container {text-align: center;}#sk-container-id-42 div.sk-container {/* jupyter's `normalize.less` sets `[hidden] { display: none; }` but bootstrap.min.css set `[hidden] { display: none !important; }` so we also need the `!important` here to be able to override the default hidden behavior on the sphinx rendered scikit-learn.org. See: https://github.com/scikit-learn/scikit-learn/issues/21755 */display: inline-block !important;position: relative;}#sk-container-id-42 div.sk-text-repr-fallback {display: none;}</style><div id=\"sk-container-id-42\" class=\"sk-top-container\"><div class=\"sk-text-repr-fallback\"><pre>GridSearchCV(estimator=AdaBoostClassifier(learning_rate=0.1, n_estimators=100,\n",
       "                                          random_state=77),\n",
       "             n_jobs=-1, param_grid={&#x27;learning_rate&#x27;: [1]}, scoring=&#x27;accuracy&#x27;)</pre><b>In a Jupyter environment, please rerun this cell to show the HTML representation or trust the notebook. <br />On GitHub, the HTML representation is unable to render, please try loading this page with nbviewer.org.</b></div><div class=\"sk-container\" hidden><div class=\"sk-item sk-dashed-wrapped\"><div class=\"sk-label-container\"><div class=\"sk-label sk-toggleable\"><input class=\"sk-toggleable__control sk-hidden--visually\" id=\"sk-estimator-id-114\" type=\"checkbox\" ><label for=\"sk-estimator-id-114\" class=\"sk-toggleable__label sk-toggleable__label-arrow\">GridSearchCV</label><div class=\"sk-toggleable__content\"><pre>GridSearchCV(estimator=AdaBoostClassifier(learning_rate=0.1, n_estimators=100,\n",
       "                                          random_state=77),\n",
       "             n_jobs=-1, param_grid={&#x27;learning_rate&#x27;: [1]}, scoring=&#x27;accuracy&#x27;)</pre></div></div></div><div class=\"sk-parallel\"><div class=\"sk-parallel-item\"><div class=\"sk-item\"><div class=\"sk-label-container\"><div class=\"sk-label sk-toggleable\"><input class=\"sk-toggleable__control sk-hidden--visually\" id=\"sk-estimator-id-115\" type=\"checkbox\" ><label for=\"sk-estimator-id-115\" class=\"sk-toggleable__label sk-toggleable__label-arrow\">estimator: AdaBoostClassifier</label><div class=\"sk-toggleable__content\"><pre>AdaBoostClassifier(learning_rate=0.1, n_estimators=100, random_state=77)</pre></div></div></div><div class=\"sk-serial\"><div class=\"sk-item\"><div class=\"sk-estimator sk-toggleable\"><input class=\"sk-toggleable__control sk-hidden--visually\" id=\"sk-estimator-id-116\" type=\"checkbox\" ><label for=\"sk-estimator-id-116\" class=\"sk-toggleable__label sk-toggleable__label-arrow\">AdaBoostClassifier</label><div class=\"sk-toggleable__content\"><pre>AdaBoostClassifier(learning_rate=0.1, n_estimators=100, random_state=77)</pre></div></div></div></div></div></div></div></div></div></div>"
      ],
      "text/plain": [
       "GridSearchCV(estimator=AdaBoostClassifier(learning_rate=0.1, n_estimators=100,\n",
       "                                          random_state=77),\n",
       "             n_jobs=-1, param_grid={'learning_rate': [1]}, scoring='accuracy')"
      ]
     },
     "execution_count": 368,
     "metadata": {},
     "output_type": "execute_result"
    }
   ],
   "source": [
    "#Hyperparameters to try:\n",
    "params_grid_ada1 = { \"learning_rate\" : [ 1 ]}  #also tried:  0.1, 0.5, 0.9, 1.1, 1.5 2, \n",
    "                                                #also tried: n_estimators = 50 instead of 100 in previous cell\n",
    "#Create search object:\n",
    "grid_search_ada1 = GridSearchCV(estimator = ada1, param_grid = params_grid_ada1,  n_jobs = -1, scoring = \"accuracy\")\n",
    "#Search:\n",
    "grid_search_ada1.fit(X_train_ada1, y_train_ada1)  #time with only 1 params: 1:30"
   ]
  },
  {
   "cell_type": "code",
   "execution_count": 369,
   "metadata": {
    "colab": {
     "base_uri": "https://localhost:8080/"
    },
    "id": "13DT1-kxY9BE",
    "outputId": "0aa108b4-3f09-4139-bb38-97a7e5a427d6"
   },
   "outputs": [
    {
     "name": "stdout",
     "output_type": "stream",
     "text": [
      "best parameters:  {'learning_rate': 1}\n",
      "(train accurary, test accuracy):\n"
     ]
    },
    {
     "data": {
      "text/plain": [
       "(0.8956, 0.7794)"
      ]
     },
     "execution_count": 369,
     "metadata": {},
     "output_type": "execute_result"
    }
   ],
   "source": [
    "print(\"best parameters: \", grid_search_ada1.best_params_ )\n",
    "print('(train accurary, test accuracy):')\n",
    "ada1_best = grid_search_ada1.best_estimator_ \n",
    "(  round(accuracy_score(y_true = y_train_ada1, y_pred = ada1_best.predict(X_train_ada1) ), 4),  \n",
    "  round(accuracy_score(y_true = y_test_ada1, y_pred = ada1_best.predict(X_test_ada1)), 4)  ) "
   ]
  },
  {
   "cell_type": "markdown",
   "metadata": {
    "id": "nPytWJWtY9Mc"
   },
   "source": [
    "**Adabost Model 2:**"
   ]
  },
  {
   "cell_type": "code",
   "execution_count": 370,
   "metadata": {
    "colab": {
     "base_uri": "https://localhost:8080/",
     "height": 118
    },
    "id": "eL7VFzvFZLnm",
    "outputId": "2e83fa84-c921-4079-9429-a3b85014a0d3"
   },
   "outputs": [
    {
     "data": {
      "text/html": [
       "<style>#sk-container-id-43 {color: black;background-color: white;}#sk-container-id-43 pre{padding: 0;}#sk-container-id-43 div.sk-toggleable {background-color: white;}#sk-container-id-43 label.sk-toggleable__label {cursor: pointer;display: block;width: 100%;margin-bottom: 0;padding: 0.3em;box-sizing: border-box;text-align: center;}#sk-container-id-43 label.sk-toggleable__label-arrow:before {content: \"▸\";float: left;margin-right: 0.25em;color: #696969;}#sk-container-id-43 label.sk-toggleable__label-arrow:hover:before {color: black;}#sk-container-id-43 div.sk-estimator:hover label.sk-toggleable__label-arrow:before {color: black;}#sk-container-id-43 div.sk-toggleable__content {max-height: 0;max-width: 0;overflow: hidden;text-align: left;background-color: #f0f8ff;}#sk-container-id-43 div.sk-toggleable__content pre {margin: 0.2em;color: black;border-radius: 0.25em;background-color: #f0f8ff;}#sk-container-id-43 input.sk-toggleable__control:checked~div.sk-toggleable__content {max-height: 200px;max-width: 100%;overflow: auto;}#sk-container-id-43 input.sk-toggleable__control:checked~label.sk-toggleable__label-arrow:before {content: \"▾\";}#sk-container-id-43 div.sk-estimator input.sk-toggleable__control:checked~label.sk-toggleable__label {background-color: #d4ebff;}#sk-container-id-43 div.sk-label input.sk-toggleable__control:checked~label.sk-toggleable__label {background-color: #d4ebff;}#sk-container-id-43 input.sk-hidden--visually {border: 0;clip: rect(1px 1px 1px 1px);clip: rect(1px, 1px, 1px, 1px);height: 1px;margin: -1px;overflow: hidden;padding: 0;position: absolute;width: 1px;}#sk-container-id-43 div.sk-estimator {font-family: monospace;background-color: #f0f8ff;border: 1px dotted black;border-radius: 0.25em;box-sizing: border-box;margin-bottom: 0.5em;}#sk-container-id-43 div.sk-estimator:hover {background-color: #d4ebff;}#sk-container-id-43 div.sk-parallel-item::after {content: \"\";width: 100%;border-bottom: 1px solid gray;flex-grow: 1;}#sk-container-id-43 div.sk-label:hover label.sk-toggleable__label {background-color: #d4ebff;}#sk-container-id-43 div.sk-serial::before {content: \"\";position: absolute;border-left: 1px solid gray;box-sizing: border-box;top: 0;bottom: 0;left: 50%;z-index: 0;}#sk-container-id-43 div.sk-serial {display: flex;flex-direction: column;align-items: center;background-color: white;padding-right: 0.2em;padding-left: 0.2em;position: relative;}#sk-container-id-43 div.sk-item {position: relative;z-index: 1;}#sk-container-id-43 div.sk-parallel {display: flex;align-items: stretch;justify-content: center;background-color: white;position: relative;}#sk-container-id-43 div.sk-item::before, #sk-container-id-43 div.sk-parallel-item::before {content: \"\";position: absolute;border-left: 1px solid gray;box-sizing: border-box;top: 0;bottom: 0;left: 50%;z-index: -1;}#sk-container-id-43 div.sk-parallel-item {display: flex;flex-direction: column;z-index: 1;position: relative;background-color: white;}#sk-container-id-43 div.sk-parallel-item:first-child::after {align-self: flex-end;width: 50%;}#sk-container-id-43 div.sk-parallel-item:last-child::after {align-self: flex-start;width: 50%;}#sk-container-id-43 div.sk-parallel-item:only-child::after {width: 0;}#sk-container-id-43 div.sk-dashed-wrapped {border: 1px dashed gray;margin: 0 0.4em 0.5em 0.4em;box-sizing: border-box;padding-bottom: 0.4em;background-color: white;}#sk-container-id-43 div.sk-label label {font-family: monospace;font-weight: bold;display: inline-block;line-height: 1.2em;}#sk-container-id-43 div.sk-label-container {text-align: center;}#sk-container-id-43 div.sk-container {/* jupyter's `normalize.less` sets `[hidden] { display: none; }` but bootstrap.min.css set `[hidden] { display: none !important; }` so we also need the `!important` here to be able to override the default hidden behavior on the sphinx rendered scikit-learn.org. See: https://github.com/scikit-learn/scikit-learn/issues/21755 */display: inline-block !important;position: relative;}#sk-container-id-43 div.sk-text-repr-fallback {display: none;}</style><div id=\"sk-container-id-43\" class=\"sk-top-container\"><div class=\"sk-text-repr-fallback\"><pre>GridSearchCV(estimator=AdaBoostClassifier(learning_rate=0.1, n_estimators=100,\n",
       "                                          random_state=77),\n",
       "             n_jobs=-1, param_grid={&#x27;learning_rate&#x27;: [0.25]},\n",
       "             scoring=&#x27;accuracy&#x27;)</pre><b>In a Jupyter environment, please rerun this cell to show the HTML representation or trust the notebook. <br />On GitHub, the HTML representation is unable to render, please try loading this page with nbviewer.org.</b></div><div class=\"sk-container\" hidden><div class=\"sk-item sk-dashed-wrapped\"><div class=\"sk-label-container\"><div class=\"sk-label sk-toggleable\"><input class=\"sk-toggleable__control sk-hidden--visually\" id=\"sk-estimator-id-117\" type=\"checkbox\" ><label for=\"sk-estimator-id-117\" class=\"sk-toggleable__label sk-toggleable__label-arrow\">GridSearchCV</label><div class=\"sk-toggleable__content\"><pre>GridSearchCV(estimator=AdaBoostClassifier(learning_rate=0.1, n_estimators=100,\n",
       "                                          random_state=77),\n",
       "             n_jobs=-1, param_grid={&#x27;learning_rate&#x27;: [0.25]},\n",
       "             scoring=&#x27;accuracy&#x27;)</pre></div></div></div><div class=\"sk-parallel\"><div class=\"sk-parallel-item\"><div class=\"sk-item\"><div class=\"sk-label-container\"><div class=\"sk-label sk-toggleable\"><input class=\"sk-toggleable__control sk-hidden--visually\" id=\"sk-estimator-id-118\" type=\"checkbox\" ><label for=\"sk-estimator-id-118\" class=\"sk-toggleable__label sk-toggleable__label-arrow\">estimator: AdaBoostClassifier</label><div class=\"sk-toggleable__content\"><pre>AdaBoostClassifier(learning_rate=0.1, n_estimators=100, random_state=77)</pre></div></div></div><div class=\"sk-serial\"><div class=\"sk-item\"><div class=\"sk-estimator sk-toggleable\"><input class=\"sk-toggleable__control sk-hidden--visually\" id=\"sk-estimator-id-119\" type=\"checkbox\" ><label for=\"sk-estimator-id-119\" class=\"sk-toggleable__label sk-toggleable__label-arrow\">AdaBoostClassifier</label><div class=\"sk-toggleable__content\"><pre>AdaBoostClassifier(learning_rate=0.1, n_estimators=100, random_state=77)</pre></div></div></div></div></div></div></div></div></div></div>"
      ],
      "text/plain": [
       "GridSearchCV(estimator=AdaBoostClassifier(learning_rate=0.1, n_estimators=100,\n",
       "                                          random_state=77),\n",
       "             n_jobs=-1, param_grid={'learning_rate': [0.25]},\n",
       "             scoring='accuracy')"
      ]
     },
     "execution_count": 370,
     "metadata": {},
     "output_type": "execute_result"
    }
   ],
   "source": [
    "#Hyperparameters to try:\n",
    "params_grid_ada2 = { \"learning_rate\" : [ 0.25]}  #also tried: 0.5, 1\n",
    "#Create search object:\n",
    "grid_search_ada2 = GridSearchCV(estimator = ada2, param_grid = params_grid_ada2,  n_jobs = -1, scoring = \"accuracy\")\n",
    "#Search:\n",
    "grid_search_ada2.fit(X_train_ada2, y_train_ada2)  #  "
   ]
  },
  {
   "cell_type": "code",
   "execution_count": 371,
   "metadata": {
    "colab": {
     "base_uri": "https://localhost:8080/"
    },
    "id": "WBuSVY7bZLnm",
    "outputId": "f7165904-1b0b-4885-efcf-41214832904f"
   },
   "outputs": [
    {
     "name": "stdout",
     "output_type": "stream",
     "text": [
      "best parameters:  {'learning_rate': 0.25}\n",
      "(train accurary, test accuracy):\n"
     ]
    },
    {
     "data": {
      "text/plain": [
       "(0.8682, 0.7808)"
      ]
     },
     "execution_count": 371,
     "metadata": {},
     "output_type": "execute_result"
    }
   ],
   "source": [
    "print(\"best parameters: \", grid_search_ada2.best_params_ )\n",
    "print('(train accurary, test accuracy):')\n",
    "ada2_best = grid_search_ada2.best_estimator_ \n",
    "(  round(accuracy_score(y_true = y_train_ada2, y_pred = ada2_best.predict(X_train_ada2) ), 4),  \n",
    "  round(accuracy_score(y_true = y_test_ada2, y_pred = ada2_best.predict(X_test_ada2)), 4)  ) "
   ]
  },
  {
   "cell_type": "markdown",
   "metadata": {
    "id": "OqBL5gEnt3JV"
   },
   "source": [
    "The best Adaboost model (by about 0.0014) is the second one, with the log-transformed data again, with a learning rate of 0.25. It's accuracy on the test data is 78.08%, a little better than the logistic model's 76.79% accuracy.  "
   ]
  },
  {
   "cell_type": "markdown",
   "metadata": {
    "id": "aFMsaV3Qz5Aq"
   },
   "source": [
    "# **Conclusion**"
   ]
  },
  {
   "cell_type": "markdown",
   "metadata": {
    "id": "Yf16pxK8quwZ"
   },
   "source": [
    "**Final Model:**\n",
    "The final model that I recommend is: An Adaboost model with 200 estimator functions summed, a learning rate of 0.25, using a dataset where the right-skewed numerical variables were log-transformed. "
   ]
  },
  {
   "cell_type": "markdown",
   "metadata": {
    "id": "ihcsbS-YjolY"
   },
   "source": [
    "**Limitations/things to look into:**    \n",
    "\n",
    "*   The training data did not seem randomly split from the test data set. The most obvious difference were the later dates in the test set. The training data only went through mid-December and the test data continued through the end of the year into early January. The end of December in the test data had some of the more extreme percentages of late deliveries (on or right before holidays), which may have been easier to predict with a more representative training dataset.   \n",
    "However, this will always be a issue when trying to predict the future.\n",
    "*   I could have done a more exhaustive search for hyperparameter values, but the searches I did took pretty long and I needed to move forward. Cloud computing would come in handy. This especially felt limiting with the Adaboost model, as the fit took forever on my computer.\n",
    "*   It's possible that a metric other than accuracy would be better for optimizing and comparing the models. But without having much context, I decided to go with the simplest metric, accuracy. \n",
    "*   Some of the categorical variables, like the city variables, had hundreds of categories, some with large numbers of corresponding observations and some with very few. It's possible that a multilevel modeling strategy would be worth trying, so that sparsely populated categories could share information with each other. I also could have grouped nearby cities together, or simply grouped rarely occuring cities together in one 'rare_cities' category.  \n",
    "*   It was difficult to make certain feature decisions without knowing or being able to deduce what every variable represented. If I were working at a logistics company, I would ask someone as my first step, or I might know from experience. \n",
    "\n"
   ]
  },
  {
   "cell_type": "markdown",
   "metadata": {
    "id": "kpOhhPzKQl2I"
   },
   "source": [
    "Please let me know if you have any questions or feedback."
   ]
  }
 ],
 "metadata": {
  "colab": {
   "collapsed_sections": [
    "yrJEF9gunW6R",
    "nhU1YYKLoFMh",
    "OeCNsspLBWgT"
   ],
   "provenance": []
  },
  "kernelspec": {
   "display_name": "Python 3 (ipykernel)",
   "language": "python",
   "name": "python3"
  },
  "language_info": {
   "codemirror_mode": {
    "name": "ipython",
    "version": 3
   },
   "file_extension": ".py",
   "mimetype": "text/x-python",
   "name": "python",
   "nbconvert_exporter": "python",
   "pygments_lexer": "ipython3",
   "version": "3.11.4"
  }
 },
 "nbformat": 4,
 "nbformat_minor": 4
}
